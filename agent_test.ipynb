{
 "cells": [
  {
   "cell_type": "code",
   "execution_count": 6,
   "metadata": {},
   "outputs": [],
   "source": [
    "import requests\n",
    "from bs4 import BeautifulSoup\n",
    "import re"
   ]
  },
  {
   "cell_type": "markdown",
   "metadata": {},
   "source": [
    "## scrap websites"
   ]
  },
  {
   "cell_type": "code",
   "execution_count": 7,
   "metadata": {},
   "outputs": [],
   "source": [
    "urls = [\n",
    "    \"https://www.formula1.com/en/latest.html\",\n",
    "    # \"https://www.motorsport.com/f1/news/\",\n",
    "]"
   ]
  },
  {
   "cell_type": "code",
   "execution_count": 8,
   "metadata": {},
   "outputs": [],
   "source": [
    "def scrape_url(url):\n",
    "    \"\"\"Récupère et nettoie le texte d'une page web.\"\"\"\n",
    "    response = requests.get(url)\n",
    "    if response.status_code == 200:\n",
    "        soup = BeautifulSoup(response.text, \"html.parser\")\n",
    "        paragraphs = soup.find_all(\"p\")  # On récupère les paragraphes\n",
    "        text = \" \".join([p.get_text() for p in paragraphs])\n",
    "        return text\n",
    "    return \"\""
   ]
  },
  {
   "cell_type": "code",
   "execution_count": 9,
   "metadata": {},
   "outputs": [],
   "source": [
    "documents = {url: scrape_url(url) for url in urls}\n"
   ]
  },
  {
   "cell_type": "code",
   "execution_count": 10,
   "metadata": {},
   "outputs": [
    {
     "data": {
      "text/plain": [
       "1639"
      ]
     },
     "execution_count": 10,
     "metadata": {},
     "output_type": "execute_result"
    }
   ],
   "source": [
    "len(documents[\"https://www.formula1.com/en/latest.html\"])"
   ]
  },
  {
   "cell_type": "markdown",
   "metadata": {},
   "source": [
    "## chunk"
   ]
  },
  {
   "cell_type": "code",
   "execution_count": 11,
   "metadata": {},
   "outputs": [],
   "source": [
    "def split_text(text, chunk_size=500):\n",
    "    \"\"\"Découpe un texte en morceaux de taille définie.\"\"\"\n",
    "    sentences = re.split(r'(?<=[.!?])\\s+', text)  # On coupe aux points\n",
    "    chunks, chunk = [], \"\"\n",
    "\n",
    "    for sentence in sentences:\n",
    "        if len(chunk) + len(sentence) < chunk_size:\n",
    "            chunk += sentence + \" \"\n",
    "        else:\n",
    "            chunks.append(chunk.strip())\n",
    "            chunk = sentence + \" \"\n",
    "    \n",
    "    if chunk:  # Ajouter le dernier morceau\n",
    "        chunks.append(chunk.strip())\n",
    "    \n",
    "    return chunks"
   ]
  },
  {
   "cell_type": "code",
   "execution_count": 15,
   "metadata": {},
   "outputs": [],
   "source": [
    "# Découper les documents en chunks\n",
    "text_chunks = {url: split_text(text) for url, text in documents.items()}"
   ]
  },
  {
   "cell_type": "code",
   "execution_count": 13,
   "metadata": {},
   "outputs": [
    {
     "data": {
      "text/plain": [
       "{'https://www.formula1.com/en/latest.html': ['',\n",
       "  \"MUST-SEE: Behind the scenes of how the driving sequences for Apple Original Films' 'F1' movie were shot PADDOCK INSIDER: Tsunoda's Red Bull drive is the chance he believed he was ready for – and he'll want to seize it Russell admits surprise at pace of Mercedes’ car as he predicts ‘interesting test’ for team in Japan 'He’s an extremely fast driver’ – Gasly assesses whether former team mate Tsunoda can succeed in ‘complicated’ Red Bull opportunity ‘It’s been quite a challenge ‘ – Sainz gives his honest reflections on first Williams outings BEYOND THE GRID: Jaime Alguersuari on his record-breaking debut to high-pressure exit WEEKEND WARM-UP: McLaren search for a third straight win as Tsunoda gets set for Red Bull debut on home soil  EXCLUSIVE: Perez reveals talks with ‘a few’ teams as he hints at possible F1 return ANALYSIS: Why Red Bull decided swift action was needed as Tsunoda is promoted in place of Lawson STRATEGY GUIDE: What are the tactical options for the Chinese Grand Prix?\",\n",
       "  'PALMER: Piastri was too hard on himself after his slip on Sunday – his race in Australia was one of his best yet TECH WEEKLY: Why Kick Sauber are performing much better than their pre-season testing form suggested TECH WEEKLY: The key reasons behind Leclerc and Hamilton’s disqualifications – but do Ferrari have a headache with the SF-25? TECH WEEKLY: Has McLaren’s secret weapon for the 2025 season been revealed?',\n",
       "  'Formula 2 racer Victor Martins joins Williams Driver Academy  F1 ACADEMY: Untouchable Pin sees off Weug to take Shanghai Race 2 victory McLaren Mercedes Red Bull Racing Ferrari © 2003-2025 Formula One World Championship Limited']}"
      ]
     },
     "execution_count": 13,
     "metadata": {},
     "output_type": "execute_result"
    }
   ],
   "source": [
    "text_chunks"
   ]
  },
  {
   "cell_type": "markdown",
   "metadata": {},
   "source": [
    "## Convertir le texte en embeddings et stocker dans FAISS"
   ]
  },
  {
   "cell_type": "code",
   "execution_count": 21,
   "metadata": {},
   "outputs": [],
   "source": [
    "from sentence_transformers import SentenceTransformer\n",
    "import faiss\n",
    "import numpy as np\n",
    "\n",
    "# Charger un modèle d'embedding\n",
    "model = SentenceTransformer(\"all-MiniLM-L6-v2\")\n",
    "\n",
    "# Transformer les chunks en embeddings\n",
    "all_chunks = [chunk for chunks in text_chunks.values() for chunk in chunks]\n",
    "embeddings = np.array(model.encode(all_chunks))\n",
    "\n",
    "# Création de l'index FAISS\n",
    "dimension = embeddings.shape[1]\n",
    "index = faiss.IndexFlatL2(dimension)  # L2 = distance euclidienne\n",
    "index.add(embeddings)\n",
    "\n",
    "# Sauvegarde de l’index\n",
    "faiss.write_index(index, \"faiss_index.bin\")\n",
    "np.save(\"chunks.npy\", np.array(all_chunks))  # Sauvegarde des textes\n"
   ]
  },
  {
   "cell_type": "markdown",
   "metadata": {},
   "source": [
    "## Rechercher les chunks pertinents lorsqu'une question est posée"
   ]
  },
  {
   "cell_type": "code",
   "execution_count": 17,
   "metadata": {},
   "outputs": [],
   "source": [
    "def search_question(question, top_k=3):\n",
    "    \"\"\"Recherche les chunks les plus proches d'une question dans l'index FAISS.\"\"\"\n",
    "    index = faiss.read_index(\"faiss_index.bin\")\n",
    "    all_chunks = np.load(\"chunks.npy\", allow_pickle=True)\n",
    "    \n",
    "    question_embedding = np.array(model.encode([question]))  # Embedding de la question\n",
    "    _, indices = index.search(question_embedding, top_k)  # Recherche des plus proches voisins\n",
    "    \n",
    "    return [all_chunks[i] for i in indices[0]]"
   ]
  },
  {
   "cell_type": "code",
   "execution_count": 22,
   "metadata": {},
   "outputs": [
    {
     "name": "stdout",
     "output_type": "stream",
     "text": [
      "['PALMER: Piastri was too hard on himself after his slip on Sunday – his race in Australia was one of his best yet TECH WEEKLY: Why Kick Sauber are performing much better than their pre-season testing form suggested TECH WEEKLY: The key reasons behind Leclerc and Hamilton’s disqualifications – but do Ferrari have a headache with the SF-25? TECH WEEKLY: Has McLaren’s secret weapon for the 2025 season been revealed?', 'Formula 2 racer Victor Martins joins Williams Driver Academy  F1 ACADEMY: Untouchable Pin sees off Weug to take Shanghai Race 2 victory McLaren Mercedes Red Bull Racing Ferrari © 2003-2025 Formula One World Championship Limited', \"MUST-SEE: Behind the scenes of how the driving sequences for Apple Original Films' 'F1' movie were shot PADDOCK INSIDER: Tsunoda's Red Bull drive is the chance he believed he was ready for – and he'll want to seize it Russell admits surprise at pace of Mercedes’ car as he predicts ‘interesting test’ for team in Japan 'He’s an extremely fast driver’ – Gasly assesses whether former team mate Tsunoda can succeed in ‘complicated’ Red Bull opportunity ‘It’s been quite a challenge ‘ – Sainz gives his honest reflections on first Williams outings BEYOND THE GRID: Jaime Alguersuari on his record-breaking debut to high-pressure exit WEEKEND WARM-UP: McLaren search for a third straight win as Tsunoda gets set for Red Bull debut on home soil  EXCLUSIVE: Perez reveals talks with ‘a few’ teams as he hints at possible F1 return ANALYSIS: Why Red Bull decided swift action was needed as Tsunoda is promoted in place of Lawson STRATEGY GUIDE: What are the tactical options for the Chinese Grand Prix?\"]\n"
     ]
    }
   ],
   "source": [
    "question = \"Qui a gagné le championnat du monde de F1 en 2024 ?\"\n",
    "relevant_chunks = search_question(question)\n",
    "print(relevant_chunks)"
   ]
  },
  {
   "cell_type": "code",
   "execution_count": 25,
   "metadata": {},
   "outputs": [
    {
     "data": {
      "text/plain": [
       "['PALMER: Piastri was too hard on himself after his slip on Sunday – his race in Australia was one of his best yet TECH WEEKLY: Why Kick Sauber are performing much better than their pre-season testing form suggested TECH WEEKLY: The key reasons behind Leclerc and Hamilton’s disqualifications – but do Ferrari have a headache with the SF-25? TECH WEEKLY: Has McLaren’s secret weapon for the 2025 season been revealed?',\n",
       " 'Formula 2 racer Victor Martins joins Williams Driver Academy  F1 ACADEMY: Untouchable Pin sees off Weug to take Shanghai Race 2 victory McLaren Mercedes Red Bull Racing Ferrari © 2003-2025 Formula One World Championship Limited',\n",
       " \"MUST-SEE: Behind the scenes of how the driving sequences for Apple Original Films' 'F1' movie were shot PADDOCK INSIDER: Tsunoda's Red Bull drive is the chance he believed he was ready for – and he'll want to seize it Russell admits surprise at pace of Mercedes’ car as he predicts ‘interesting test’ for team in Japan 'He’s an extremely fast driver’ – Gasly assesses whether former team mate Tsunoda can succeed in ‘complicated’ Red Bull opportunity ‘It’s been quite a challenge ‘ – Sainz gives his honest reflections on first Williams outings BEYOND THE GRID: Jaime Alguersuari on his record-breaking debut to high-pressure exit WEEKEND WARM-UP: McLaren search for a third straight win as Tsunoda gets set for Red Bull debut on home soil  EXCLUSIVE: Perez reveals talks with ‘a few’ teams as he hints at possible F1 return ANALYSIS: Why Red Bull decided swift action was needed as Tsunoda is promoted in place of Lawson STRATEGY GUIDE: What are the tactical options for the Chinese Grand Prix?\"]"
      ]
     },
     "execution_count": 25,
     "metadata": {},
     "output_type": "execute_result"
    }
   ],
   "source": [
    "relevant_chunks"
   ]
  },
  {
   "cell_type": "markdown",
   "metadata": {},
   "source": [
    "## Générer une réponse avec un modèle GPT"
   ]
  },
  {
   "cell_type": "code",
   "execution_count": null,
   "metadata": {},
   "outputs": [],
   "source": [
    "import openai\n",
    "\n",
    "openai.api_key = \"TA_CLE_API_OPENAI\"  # Remplace avec ta clé OpenAI\n",
    "\n",
    "def generate_answer(question, context):\n",
    "    \"\"\"Génère une réponse basée sur le contexte extrait.\"\"\"\n",
    "    prompt = f\"Réponds à la question suivante en te basant uniquement sur ces informations :\\n\\n{context}\\n\\nQuestion : {question}\\nRéponse :\"\n",
    "    \n",
    "    response = openai.ChatCompletion.create(\n",
    "        model=\"gpt-4\",\n",
    "        messages=[{\"role\": \"user\", \"content\": prompt}]\n",
    "    )\n",
    "\n",
    "    return response[\"choices\"][0][\"message\"][\"content\"]\n",
    "\n",
    "# Utiliser les chunks trouvés pour générer une réponse\n",
    "context = \" \".join(relevant_chunks)\n",
    "answer = generate_answer(question, context)\n",
    "print(\"Réponse :\", answer)\n"
   ]
  }
 ],
 "metadata": {
  "kernelspec": {
   "display_name": "Python 3",
   "language": "python",
   "name": "python3"
  },
  "language_info": {
   "codemirror_mode": {
    "name": "ipython",
    "version": 3
   },
   "file_extension": ".py",
   "mimetype": "text/x-python",
   "name": "python",
   "nbconvert_exporter": "python",
   "pygments_lexer": "ipython3",
   "version": "3.10.12"
  }
 },
 "nbformat": 4,
 "nbformat_minor": 2
}
